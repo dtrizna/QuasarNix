{
 "cells": [
  {
   "cell_type": "code",
   "execution_count": 6,
   "metadata": {},
   "outputs": [],
   "source": [
    "import pandas as pd\n",
    "import numpy as np\n",
    "import os\n",
    "import re\n",
    "from tqdm import tqdm\n",
    "from sklearn.model_selection import train_test_split\n",
    "from sklearn.utils import shuffle\n",
    "\n",
    "ROOT = os.path.join(\"..\", \"..\")\n",
    "\n",
    "def read_powershell_pan_enc(root: str):\n",
    "    file = os.path.join(root, \"data\", \"dtrizna\", \"powershell\", \"pan42\", \"ps_encodedcommand_data_clean.txt\")\n",
    "    with open(file, \"r\") as f:\n",
    "        lines = f.readlines()\n",
    "    return lines\n",
    "\n",
    "\n",
    "def read_powershell_offensive(root: str):\n",
    "    folder = os.path.join(root, \"data\", \"dtrizna\", \"powershell\", \"offensive-powershell\", \"data\")\n",
    "    for parquet_file in os.listdir(folder):\n",
    "        if parquet_file.endswith(\".parquet\"):\n",
    "            if \"train\" in parquet_file:\n",
    "                train_df = pd.read_parquet(os.path.join(folder, parquet_file))\n",
    "            elif \"dev\" in parquet_file:\n",
    "                dev_df = pd.read_parquet(os.path.join(folder, parquet_file))\n",
    "            elif \"test\" in parquet_file:\n",
    "                test_df = pd.read_parquet(os.path.join(folder, parquet_file))\n",
    "    all_pwsh = np.concatenate([train_df['code'].values, dev_df['code'].values, test_df['code'].values]).tolist()\n",
    "    return all_pwsh\n",
    "\n",
    "\n",
    "def convert_powershell_ps1_to_oneliner(script: str) -> str:\n",
    "    lines = script.splitlines()\n",
    "    lines = [line for line in lines if not line.strip().startswith(\"#\")]\n",
    "    lines = [line for line in lines if line.strip()]\n",
    "    oneliner = ' '.join('; '.join(lines).split())\n",
    "    # remove param block using regex\n",
    "    oneliner = re.sub(r\"param\\s*\\([^)]*\\)\", \"\", oneliner)\n",
    "    return oneliner.lstrip(\"; .\")\n",
    "\n",
    "def read_powershell_corpus(root: str):\n",
    "    dataset = []     \n",
    "    corpus_folder = os.path.join(root, \"data\", \"dtrizna\", \"powershell\", \"pwsh_collection\")\n",
    "    for dirpath, dirnames, filenames in tqdm(os.walk(corpus_folder), desc=\"[*] Reading PowerShell corpus\"):\n",
    "        for filename in filenames:\n",
    "            if filename.endswith(\".ps1\") or filename.endswith(\".psm1\"):\n",
    "                filepath = os.path.join(dirpath, filename)\n",
    "                # UnicodeDecodeError: 'utf-8' codec can't decode byte 0xff in position 0\n",
    "                with open(filepath, \"r\", encoding=\"utf-8\", errors=\"replace\") as f:\n",
    "                    script = f.read()\n",
    "                oneliner = convert_powershell_ps1_to_oneliner(script)\n",
    "                dataset.append(oneliner)\n",
    "    return dataset\n",
    "\n",
    "def read_powershell_data(root: str, seed: int = 33, split_train_test: bool = False):\n",
    "    pan_pwsh = read_powershell_pan_enc(root)\n",
    "    huggingface_pwsh = read_powershell_offensive(root)\n",
    "    powershell_collection_pwsh = read_powershell_corpus(root)\n",
    "\n",
    "    malicious = pan_pwsh + huggingface_pwsh\n",
    "    benign = powershell_collection_pwsh\n",
    "\n",
    "    malicious_labels = [1] * len(malicious)\n",
    "    benign_labels = [0] * len(benign)\n",
    "\n",
    "    X = malicious + benign\n",
    "    y = malicious_labels + benign_labels\n",
    "    X, y = shuffle(X, y, random_state=seed)\n",
    "\n",
    "    if split_train_test:\n",
    "        X_train, X_test, y_train, y_test = train_test_split(X, y, test_size=0.2, random_state=seed)\n",
    "        return X_train, X_test, y_train, y_test\n",
    "    else:\n",
    "        return X, y\n",
    "\n",
    "def read_powershell_parquet(root: str, seed: int = 33):\n",
    "    train_df = pd.read_parquet(os.path.join(root, \"data\", \"dtrizna\", \"powershell\", f\"train_pwsh_seed_{seed}.parquet\"))\n",
    "    test_df = pd.read_parquet(os.path.join(root, \"data\", \"dtrizna\", \"powershell\", f\"test_pwsh_seed_{seed}.parquet\"))\n",
    "    return train_df, test_df"
   ]
  },
  {
   "cell_type": "code",
   "execution_count": 3,
   "metadata": {},
   "outputs": [
    {
     "name": "stderr",
     "output_type": "stream",
     "text": [
      "[*] Reading PowerShell corpus: 295645it [00:46, 6295.13it/s] \n"
     ]
    },
    {
     "name": "stdout",
     "output_type": "stream",
     "text": [
      "328550 82138 328550 82138\n"
     ]
    }
   ],
   "source": [
    "X_train, X_test, y_train, y_test = read_powershell_data(ROOT, split_train_test=True, seed=33)\n",
    "print(len(X_train), len(X_test), len(y_train), len(y_test))"
   ]
  },
  {
   "cell_type": "code",
   "execution_count": 4,
   "metadata": {},
   "outputs": [],
   "source": [
    "# write as parquet\n",
    "train_df = pd.DataFrame({\"code\": X_train, \"label\": y_train})\n",
    "test_df = pd.DataFrame({\"code\": X_test, \"label\": y_test})\n",
    "\n",
    "train_df.to_parquet(os.path.join(ROOT, \"data\", \"dtrizna\", \"powershell\", \"train_pwsh_seed_33.parquet\"))\n",
    "test_df.to_parquet(os.path.join(ROOT, \"data\", \"dtrizna\", \"powershell\", \"test_pwsh_seed_33.parquet\"))"
   ]
  },
  {
   "cell_type": "code",
   "execution_count": 7,
   "metadata": {},
   "outputs": [],
   "source": [
    "train_df, test_df = read_powershell_parquet(ROOT, seed=33)"
   ]
  }
 ],
 "metadata": {
  "kernelspec": {
   "display_name": "Python 3",
   "language": "python",
   "name": "python3"
  },
  "language_info": {
   "codemirror_mode": {
    "name": "ipython",
    "version": 3
   },
   "file_extension": ".py",
   "mimetype": "text/x-python",
   "name": "python",
   "nbconvert_exporter": "python",
   "pygments_lexer": "ipython3",
   "version": "3.10.12"
  }
 },
 "nbformat": 4,
 "nbformat_minor": 2
}
