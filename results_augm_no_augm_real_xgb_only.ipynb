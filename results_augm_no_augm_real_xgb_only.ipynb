{
 "cells": [
  {
   "cell_type": "code",
   "execution_count": 2,
   "metadata": {},
   "outputs": [],
   "source": [
    "import os\n",
    "import pickle\n",
    "import numpy as np\n",
    "import matplotlib.pyplot as plt\n",
    "from sklearn.metrics import roc_curve, roc_auc_score\n",
    "from sklearn.utils import shuffle\n",
    "\n",
    "INFOLDER = \"./logs_augm_no_augm/real_xgb_only/\"\n",
    "\n",
    "metrics  = [os.path.join(INFOLDER, x, \"metrics.csv\") for x in os.listdir(INFOLDER) if x.endswith(\"xgb_onehot\")]\n",
    "models = {x: os.path.join(INFOLDER, x, \"model.pkl\") for x in os.listdir(INFOLDER) if x.endswith(\"xgb_onehot\")}"
   ]
  },
  {
   "cell_type": "code",
   "execution_count": 3,
   "metadata": {},
   "outputs": [
    {
     "name": "stdout",
     "output_type": "stream",
     "text": [
      "235237\n"
     ]
    },
    {
     "data": {
      "text/plain": [
       "(235237,)"
      ]
     },
     "execution_count": 3,
     "metadata": {},
     "output_type": "execute_result"
    }
   ],
   "source": [
    "with open(os.path.join(INFOLDER, \"test_cmd.txt\")) as f:\n",
    "    X_test_cmd = f.readlines()\n",
    "\n",
    "mal = 9\n",
    "ben = len(X_test_cmd) - mal\n",
    "y_test = np.concatenate((np.zeros(ben), np.ones(mal)))\n",
    "print(len(X_test_cmd))\n",
    "y_test.shape"
   ]
  },
  {
   "cell_type": "code",
   "execution_count": 4,
   "metadata": {},
   "outputs": [
    {
     "name": "stdout",
     "output_type": "stream",
     "text": [
      "Loading augmented data...\n",
      "Loading non augmented data...\n"
     ]
    }
   ],
   "source": [
    "print(\"Loading augmented data...\")\n",
    "oh_augm = pickle.load(open(os.path.join(INFOLDER, \"augm_onehot_4096.pkl\"), \"rb\"))\n",
    "X_test_augm = oh_augm.transform(X_test_cmd)\n",
    "\n",
    "print(\"Loading non augmented data...\")\n",
    "oh_non_augm = pickle.load(open(os.path.join(INFOLDER, \"not_augm_onehot_4096.pkl\"), \"rb\"))\n",
    "X_test_non_augm = oh_non_augm.transform(X_test_cmd)"
   ]
  },
  {
   "cell_type": "code",
   "execution_count": 17,
   "metadata": {},
   "outputs": [
    {
     "name": "stdout",
     "output_type": "stream",
     "text": [
      "Loading model augm_xgb_onehot\n",
      "Predicting...\n",
      "Loading model not_augm_xgb_onehot\n",
      "Predicting...\n",
      "Loading model not_augm_balanced_xgb_onehot\n",
      "Predicting...\n"
     ]
    },
    {
     "data": {
      "image/png": "[encoded data removed]",
      "text/plain": [
       "<Figure size 504x311.489 with 1 Axes>"
      ]
     },
     "metadata": {
      "needs_background": "light"
     },
     "output_type": "display_data"
    }
   ],
   "source": [
    "import scienceplots\n",
    "plt.style.use(['science'])\n",
    "\n",
    "from src.plots import set_size\n",
    "\n",
    "labelmap = {\n",
    "    'augm': \"Augmented\",\n",
    "    'not_augm': \"Not augmented\",\n",
    "    'not_augm_balanced': \"Not augmented (balanced)\",\n",
    "}\n",
    "\n",
    "fig, ax = plt.subplots(figsize=set_size())\n",
    "for name, label in labelmap.items():\n",
    "    key = name + \"_xgb_onehot\"\n",
    "    model_path = models[key]\n",
    "    print(\"Loading model {}\".format(key))\n",
    "    model = pickle.load(open(model_path, \"rb\"))\n",
    "\n",
    "\n",
    "    print(\"Predicting...\")\n",
    "    if \"not\" in key:\n",
    "        # shuffle data\n",
    "        X, y = shuffle(X_test_non_augm, y_test, random_state=42)\n",
    "        y_pred = model.predict_proba(X)[:, 1]\n",
    "    else:\n",
    "        # shuffle data\n",
    "        X, y = shuffle(X_test_augm, y_test, random_state=42)\n",
    "        y_pred = model.predict_proba(X)[:, 1]\n",
    "\n",
    "    fpr, tpr, _ = roc_curve(y, y_pred)\n",
    "    auc = roc_auc_score(y, y_pred)\n",
    "    ax.plot(fpr, tpr, label=\"{} (AUC={:.3f})\".format(label, auc), lw=2)\n",
    "\n",
    "# ax.plot([0, 1], [0, 1], color='red', lw=2, linestyle='--')\n",
    "ax.set_xlabel(\"False Positive Rate\", fontsize=16)\n",
    "ax.set_ylabel(\"True Positive Rate\", fontsize=16)\n",
    "ax.tick_params(labelsize=14)\n",
    "\n",
    "ax.legend(fontsize=14)\n",
    "# ax.grid(lw=0.5)\n",
    "\n",
    "ax.semilogx()\n",
    "# ax.grid(linewidth=0.5)\n",
    "# ax.set_ylim([0.2, 1.05])\n",
    "\n",
    "# for item in ([ax.title, ax.xaxis.label, ax.yaxis.label] +\n",
    "#              ax.get_xticklabels() + ax.get_yticklabels()):\n",
    "#     item.set_fontsize(16)\n",
    "\n",
    "plt.tight_layout()\n",
    "plt.savefig(f\"img/augm_non_augm_v2.pdf\", dpi=300)"
   ]
  },
  {
   "cell_type": "code",
   "execution_count": 6,
   "metadata": {},
   "outputs": [
    {
     "name": "stdout",
     "output_type": "stream",
     "text": [
      "DIM ND MIR ND NSTY"
     ]
    }
   ],
   "source": [
    "sentence = \"DIMA AND MIRA AND NASTYA\"\n",
    "\n",
    "for letter in sentence:\n",
    "    if letter == \"A\":\n",
    "        pass\n",
    "    else:\n",
    "       print(letter, end=\"\")"
   ]
  },
  {
   "cell_type": "code",
   "execution_count": null,
   "metadata": {},
   "outputs": [],
   "source": []
  }
 ],
 "metadata": {
  "kernelspec": {
   "display_name": "Python 3",
   "language": "python",
   "name": "python3"
  },
  "language_info": {
   "codemirror_mode": {
    "name": "ipython",
    "version": 3
   },
   "file_extension": ".py",
   "mimetype": "text/x-python",
   "name": "python",
   "nbconvert_exporter": "python",
   "pygments_lexer": "ipython3",
   "version": "3.9.13"
  }
 },
 "nbformat": 4,
 "nbformat_minor": 2
}
