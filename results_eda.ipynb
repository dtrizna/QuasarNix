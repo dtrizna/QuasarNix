{
 "cells": [
  {
   "cell_type": "code",
   "execution_count": 1,
   "metadata": {},
   "outputs": [
    {
     "name": "stdout",
     "output_type": "stream",
     "text": [
      "[!] Loading vocab from './wordpunct_vocab_4096.json'...\n"
     ]
    }
   ],
   "source": [
    "import os\n",
    "import pickle\n",
    "\n",
    "import matplotlib.pyplot as plt\n",
    "import scienceplots\n",
    "plt.style.use(['science', 'no-latex'])\n",
    "\n",
    "from src.data_utils import load_data, load_tokenizer\n",
    "from nltk.tokenize import wordpunct_tokenize\n",
    "\n",
    "from src.plots import set_size\n",
    "\n",
    "from typing import List\n",
    "from pprint import pprint\n",
    "\n",
    "SEED = 33\n",
    "ROOT = \".\"\n",
    "LIMIT = None\n",
    "\n",
    "X_train_cmds, y_train, X_test_cmds, y_test, X_train_malicious_cmd, X_train_baseline_cmd, X_test_malicious_cmd, X_test_baseline_cmd = load_data(ROOT, SEED)\n",
    "\n",
    "tokenizer = load_tokenizer(\n",
    "    tokenizer_type=\"sequential\",\n",
    "    train_cmds=X_train_cmds,\n",
    "    tokenizer_fn=wordpunct_tokenize,\n",
    "    max_len=256,\n",
    "    vocab_size=4096,\n",
    ")"
   ]
  },
  {
   "cell_type": "code",
   "execution_count": 2,
   "metadata": {},
   "outputs": [],
   "source": [
    "# DONT NEED ARRAYS REALLY, TAKES TIME\n",
    "# train_arr_pkl = os.path.join(ROOT, \"data\", f\"X_train_array_{LONG_MAX_LEN}.pkl\")\n",
    "# if os.path.exists(train_arr_pkl):\n",
    "#     with open(train_arr_pkl, \"rb\") as f:\n",
    "#         X_train_array = pickle.load(f)\n",
    "# else:\n",
    "#     X_train_array = tokenizer.transform(X_train_cmds)\n",
    "#     with open(train_arr_pkl, \"wb\") as f:\n",
    "#         pickle.dump(X_train_array, f)\n",
    "\n",
    "# test_arr_pkl = os.path.join(ROOT, \"data\", f\"X_test_array_{LONG_MAX_LEN}.pkl\")\n",
    "# if os.path.exists(test_arr_pkl):\n",
    "#     with open(test_arr_pkl, \"rb\") as f:\n",
    "#         X_test_array = pickle.load(f)\n",
    "# else:\n",
    "#     X_test_array = tokenizer.transform(X_test_cmds)\n",
    "#     with open(test_arr_pkl, \"wb\") as f:\n",
    "#         pickle.dump(X_test_array, f)"
   ]
  },
  {
   "cell_type": "code",
   "execution_count": 112,
   "metadata": {},
   "outputs": [],
   "source": [
    "X_train_cmds_tokenized = tokenizer.tokenize(X_train_cmds)\n",
    "X_test_cmds_tokenized = tokenizer.tokenize(X_test_cmds)"
   ]
  },
  {
   "cell_type": "markdown",
   "metadata": {},
   "source": [
    "## Sequence Length visualisations\n",
    "\n",
    "### Total lengths"
   ]
  },
  {
   "cell_type": "code",
   "execution_count": 4,
   "metadata": {},
   "outputs": [
    {
     "data": {
      "image/png": "[encoded data removed]",
      "text/plain": [
       "<Figure size 432x288 with 1 Axes>"
      ]
     },
     "metadata": {
      "needs_background": "light"
     },
     "output_type": "display_data"
    }
   ],
   "source": [
    "def barplot_lengths(cmds: List[List[str]], ax = None):\n",
    "    if ax is None:\n",
    "        fig, ax = plt.subplots()\n",
    "    lengths = [len(cmd) for cmd in cmds]\n",
    "    ax.hist(lengths, bins=100)\n",
    "    ax.set_xlabel(\"Length of command\")\n",
    "    ax.set_ylabel(\"Number of commands\")\n",
    "    return ax\n",
    "\n",
    "fig, ax = plt.subplots()\n",
    "barplot_lengths(X_train_cmds_tokenized, ax=ax)\n",
    "ax.set_yscale('log')"
   ]
  },
  {
   "cell_type": "markdown",
   "metadata": {},
   "source": [
    "### Cutting "
   ]
  },
  {
   "cell_type": "code",
   "execution_count": 120,
   "metadata": {},
   "outputs": [],
   "source": [
    "# filter out commands that are longer than 256\n",
    "def print_len_stat(cmds_tokenized, seqlen=256):\n",
    "    cmds_tokenized_long = [cmd for cmd in cmds_tokenized if len(cmd) >= seqlen]\n",
    "    cmds_tokenized_short = [cmd for cmd in cmds_tokenized if len(cmd) <= seqlen]\n",
    "    # ratio in %\n",
    "    ratio = len(cmds_tokenized_long) / len(cmds_tokenized) * 100\n",
    "    print(f\"Number of commands longer than {seqlen} tokens: ({ratio:.4f}%) | Longer: {len(cmds_tokenized_long)} | Shorter: {len(cmds_tokenized_short)} | Total: {len(cmds_tokenized)}\")\n",
    "    return cmds_tokenized_long, cmds_tokenized_short"
   ]
  },
  {
   "cell_type": "code",
   "execution_count": 121,
   "metadata": {},
   "outputs": [
    {
     "name": "stdout",
     "output_type": "stream",
     "text": [
      "Number of commands longer than 256 tokens: (0.0066%) | Longer: 35 | Shorter: 532979 | Total: 533014\n",
      "Number of commands longer than 128 tokens: (2.2345%) | Longer: 11910 | Shorter: 521104 | Total: 533014\n"
     ]
    }
   ],
   "source": [
    "X_train_cmds_tokenized_long, X_train_cmds_tokenized_short = print_len_stat(X_train_cmds_tokenized, seqlen=256)\n",
    "X_train_cmds_tokenized_long, X_train_cmds_tokenized_short = print_len_stat(X_train_cmds_tokenized, seqlen=128)"
   ]
  },
  {
   "cell_type": "code",
   "execution_count": 122,
   "metadata": {},
   "outputs": [
    {
     "name": "stdout",
     "output_type": "stream",
     "text": [
      "Number of commands longer than 256 tokens: (0.0149%) | Longer: 70 | Shorter: 470059 | Total: 470129\n",
      "Number of commands longer than 128 tokens: (0.1134%) | Longer: 533 | Shorter: 469596 | Total: 470129\n"
     ]
    }
   ],
   "source": [
    "X_test_cmds_tokenized_long, X_test_cmds_tokenized_short = print_len_stat(X_test_cmds_tokenized, seqlen=256)\n",
    "X_test_cmds_tokenized_long, X_test_cmds_tokenized_short = print_len_stat(X_test_cmds_tokenized, seqlen=128)"
   ]
  },
  {
   "cell_type": "code",
   "execution_count": 103,
   "metadata": {},
   "outputs": [
    {
     "data": {
      "image/png": "[encoded data removed]",
      "text/plain": [
       "<Figure size 504x311.489 with 1 Axes>"
      ]
     },
     "metadata": {
      "needs_background": "light"
     },
     "output_type": "display_data"
    }
   ],
   "source": [
    "fig, ax = plt.subplots(figsize=set_size())\n",
    "barplot_lengths(X_train_cmds_tokenized_short, ax=ax)\n",
    "ax.set_yscale('log')\n",
    "\n",
    "# increase font size\n",
    "for item in ([ax.title, ax.xaxis.label, ax.yaxis.label] +\n",
    "             ax.get_xticklabels() + ax.get_yticklabels()):\n",
    "    item.set_fontsize(16)\n",
    "\n",
    "# savefig in /img as pdf\n",
    "fig.savefig(\"img/train_cmd_lengths.pdf\", bbox_inches='tight', dpi=300)"
   ]
  },
  {
   "cell_type": "code",
   "execution_count": 10,
   "metadata": {},
   "outputs": [
    {
     "data": {
      "image/png": "[encoded data removed]",
      "text/plain": [
       "<Figure size 504x311.489 with 1 Axes>"
      ]
     },
     "metadata": {
      "needs_background": "light"
     },
     "output_type": "display_data"
    }
   ],
   "source": [
    "fig, ax = plt.subplots(figsize=set_size())\n",
    "barplot_lengths(X_test_cmds_tokenized_short, ax=ax)\n",
    "ax.set_yscale('log')\n",
    "# savefig in /img as pdf\n",
    "fig.savefig(\"img/test_cmd_lengths.pdf\", bbox_inches='tight', dpi=300)"
   ]
  },
  {
   "cell_type": "markdown",
   "metadata": {},
   "source": [
    "### Vocab Size visualisations"
   ]
  },
  {
   "cell_type": "code",
   "execution_count": 11,
   "metadata": {},
   "outputs": [],
   "source": [
    "# select elements from X_train_cmds_tokenized where y_train == 1\n",
    "y_rvrs_mask = y_train == 1\n",
    "X_train_cmds_tokenized_rvrs = [cmd for cmd, mask in zip(X_train_cmds_tokenized, y_rvrs_mask) if mask]\n",
    "\n",
    "# same for 0\n",
    "y_base_mask = y_train == 0\n",
    "X_train_cmds_tokenized_base = [cmd for cmd, mask in zip(X_train_cmds_tokenized, y_base_mask) if mask]"
   ]
  },
  {
   "cell_type": "code",
   "execution_count": 12,
   "metadata": {},
   "outputs": [
    {
     "name": "stdout",
     "output_type": "stream",
     "text": [
      "266501\n",
      "266513\n"
     ]
    }
   ],
   "source": [
    "print(len(X_train_cmds_tokenized_rvrs))\n",
    "print(len(X_train_cmds_tokenized_base))"
   ]
  },
  {
   "cell_type": "code",
   "execution_count": 78,
   "metadata": {},
   "outputs": [],
   "source": [
    "def venn_diagram(cmds_tokens_rvrs: List[List[str]], cmds_tokens_base: List[List[str]], ax = None, vocab=None, labels=[\"Reverse Shell\\nTokens\", \"Baseline\\nTokens\"]):\n",
    "    from matplotlib_venn import venn2\n",
    "    if ax is None:\n",
    "        fig, ax = plt.subplots()\n",
    "    cmds_tokens_rvrs_flat = [item for sublist in cmds_tokens_rvrs for item in sublist]\n",
    "    cmds_tokens_base_flat = [item for sublist in cmds_tokens_base for item in sublist]\n",
    "    if vocab is not None:\n",
    "        cmds_tokens_rvrs_flat = [item for item in cmds_tokens_rvrs_flat if item in vocab]\n",
    "        cmds_tokens_base_flat = [item for item in cmds_tokens_base_flat if item in vocab]\n",
    "    vd = venn2(\n",
    "        [set(cmds_tokens_rvrs_flat), set(cmds_tokens_base_flat)], \n",
    "        # normalize_to=25,\n",
    "        set_labels=labels, \n",
    "        ax=ax\n",
    "    )\n",
    "    \n",
    "    return ax, vd"
   ]
  },
  {
   "cell_type": "code",
   "execution_count": 93,
   "metadata": {},
   "outputs": [
    {
     "data": {
      "image/png": "[encoded data removed]",
      "text/plain": [
       "<Figure size 504x311.489 with 1 Axes>"
      ]
     },
     "metadata": {},
     "output_type": "display_data"
    }
   ],
   "source": [
    "plt.style.use(['science'])\n",
    "\n",
    "fig, ax = plt.subplots(figsize=set_size())\n",
    "ax, vd = venn_diagram(X_train_cmds_tokenized_rvrs, X_train_cmds_tokenized_base, ax=ax, vocab=tokenizer.vocab, labels = [\"Reverse Shell\\nTokens\", \"Baseline\\nTokens\"])\n",
    "\n",
    "vd.get_label_by_id('A').set_x(-0.42)\n",
    "vd.get_label_by_id('A').set_y(.45)\n",
    "vd.get_label_by_id('B').set_x(0.55)\n",
    "vd.get_label_by_id('B').set_y(0.45)\n",
    "vd.get_label_by_id('10').set_x(-0.64)\n",
    "\n",
    "# increase font size of labels\n",
    "for text in vd.set_labels:\n",
    "    text.set_fontsize(16)\n",
    "for text in vd.subset_labels:\n",
    "    text.set_fontsize(16)\n",
    "\n",
    "# # save as pdf in /img\n",
    "fig.savefig(\"img/venn_train_cmds_tokens_vocab.pdf\", bbox_inches='tight', dpi=300)"
   ]
  },
  {
   "cell_type": "code",
   "execution_count": 86,
   "metadata": {},
   "outputs": [
    {
     "data": {
      "image/png": "[encoded data removed]",
      "text/plain": [
       "<Figure size 504x311.489 with 1 Axes>"
      ]
     },
     "metadata": {},
     "output_type": "display_data"
    }
   ],
   "source": [
    "fig, ax = plt.subplots(figsize=set_size())\n",
    "ax, vd = venn_diagram(X_train_cmds_tokenized_rvrs, X_train_cmds_tokenized_base, ax=ax, labels = [\"Reverse Shell\\nTokens\", \"Baseline\\nTokens\"])\n",
    "\n",
    "# increase font size of labels\n",
    "for text in vd.set_labels:\n",
    "    text.set_fontsize(16)\n",
    "for text in vd.subset_labels:\n",
    "    text.set_fontsize(16)\n",
    "\n",
    "# save as pdf in /img\n",
    "fig.savefig(\"img/venn_train_cmds_tokens_no_vocab.pdf\", bbox_inches='tight', dpi=300)"
   ]
  },
  {
   "cell_type": "code",
   "execution_count": 102,
   "metadata": {},
   "outputs": [
    {
     "data": {
      "image/png": "[encoded data removed]",
      "text/plain": [
       "<Figure size 504x311.489 with 1 Axes>"
      ]
     },
     "metadata": {
      "needs_background": "light"
     },
     "output_type": "display_data"
    }
   ],
   "source": [
    "def plot_token_counter(cmds_tokens: List[List[str]], vocab_size = 4096, ax = None):\n",
    "    from collections import Counter\n",
    "    if ax is None:\n",
    "        fig, ax = plt.subplots()\n",
    "    cmds_tokens_flat = [item for sublist in cmds_tokens for item in sublist]\n",
    "    counter = Counter(cmds_tokens_flat)\n",
    "    counter = counter.most_common()\n",
    "    # as line plot\n",
    "    ax.plot([item[1] for item in counter], linewidth=2)\n",
    "    # plot red dashed line at vocab size\n",
    "    ax.axvline(x=vocab_size, color='r', linestyle='--', linewidth=2)\n",
    "    return ax\n",
    "\n",
    "fig, ax = plt.subplots(figsize=set_size())\n",
    "ax = plot_token_counter(X_train_cmds_tokenized_rvrs, ax=ax, vocab_size=1024)\n",
    "ax.set_yscale('log')\n",
    "ax.set_xscale('log')\n",
    "\n",
    "# increase size of xticks, xticklabels, xlabel, ylabel\n",
    "ax.tick_params(axis='x', which='major', labelsize=16)\n",
    "ax.set_xlabel(\"Token\", fontsize=16)\n",
    "_ = ax.set_ylabel(\"Count\", fontsize=16)\n"
   ]
  },
  {
   "cell_type": "code",
   "execution_count": 124,
   "metadata": {},
   "outputs": [
    {
     "name": "stdout",
     "output_type": "stream",
     "text": [
      "Vocab coverage: 97.3494% | Tokens in vocab: 11980647 | Total tokens: 12306854\n",
      "Vocab coverage: 2.6506% | Tokens not in vocab: 326207 | Total tokens: 12306854\n"
     ]
    }
   ],
   "source": [
    "# quantifying how many tokens in % from all tokens are in the vocab\n",
    "def print_vocab_coverage(cmds_tokens: List[List[str]], vocab):\n",
    "    cmds_tokens_flat = [item for sublist in cmds_tokens for item in sublist]\n",
    "    cmds_tokens_flat = [item for item in cmds_tokens_flat if item in vocab]\n",
    "    ratio = len(cmds_tokens_flat) / len([item for sublist in cmds_tokens for item in sublist]) * 100\n",
    "    # positive metrics\n",
    "    print(f\"Vocab coverage: {ratio:.4f}% | Tokens in vocab: {len(cmds_tokens_flat)} | Total tokens: {len([item for sublist in cmds_tokens for item in sublist])}\")\n",
    "    # negative metrics\n",
    "    print(f\"Vocab coverage: {100 - ratio:.4f}% | Tokens not in vocab: {len([item for sublist in cmds_tokens for item in sublist]) - len(cmds_tokens_flat)} | Total tokens: {len([item for sublist in cmds_tokens for item in sublist])}\")\n",
    "\n",
    "print_vocab_coverage(X_train_cmds_tokenized_rvrs, tokenizer.vocab)"
   ]
  },
  {
   "cell_type": "code",
   "execution_count": 130,
   "metadata": {},
   "outputs": [],
   "source": [
    "file = r\"logs_adversarial_evasion\\nl2bash_prepend\\X_test_malicious_with_attack_128_cmd_sample_5000.json\"\n",
    "import json\n",
    "with open(os.path.join(ROOT, file), \"r\") as f:\n",
    "    data = json.load(f)\n",
    "\n",
    "data_tokenized = tokenizer.tokenize(data)"
   ]
  },
  {
   "cell_type": "code",
   "execution_count": 132,
   "metadata": {},
   "outputs": [
    {
     "name": "stdout",
     "output_type": "stream",
     "text": [
      "Number of commands longer than 256 tokens: (0.0000%) | Longer: 0 | Shorter: 5000 | Total: 5000\n"
     ]
    }
   ],
   "source": [
    "data_tokenized_long, data_tokenized_short = print_len_stat(data_tokenized, seqlen=256)"
   ]
  }
 ],
 "metadata": {
  "kernelspec": {
   "display_name": "Python 3",
   "language": "python",
   "name": "python3"
  },
  "language_info": {
   "codemirror_mode": {
    "name": "ipython",
    "version": 3
   },
   "file_extension": ".py",
   "mimetype": "text/x-python",
   "name": "python",
   "nbconvert_exporter": "python",
   "pygments_lexer": "ipython3",
   "version": "3.9.13"
  }
 },
 "nbformat": 4,
 "nbformat_minor": 2
}
