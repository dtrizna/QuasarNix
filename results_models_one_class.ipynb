{
 "cells": [
  {
   "cell_type": "code",
   "execution_count": 63,
   "metadata": {},
   "outputs": [
    {
     "name": "stdout",
     "output_type": "stream",
     "text": [
      "X_train_cmds:  533014\n",
      "X_test_cmds:  470129\n"
     ]
    }
   ],
   "source": [
    "import os\n",
    "import time\n",
    "import torch\n",
    "import pickle\n",
    "import numpy as np\n",
    "import pandas as pd\n",
    "from sklearn.utils import shuffle\n",
    "from sklearn.metrics import confusion_matrix, f1_score, accuracy_score, roc_auc_score, roc_curve, auc\n",
    "\n",
    "# importing one class models -- oc svm and isolation forest\n",
    "from sklearn.svm import OneClassSVM\n",
    "from sklearn.ensemble import IsolationForest\n",
    "from sklearn.linear_model import SGDOneClassSVM\n",
    "\n",
    "# tokenizers\n",
    "from src.preprocessors import CommandTokenizer, OneHotCustomVectorizer\n",
    "from nltk.tokenize import wordpunct_tokenize\n",
    "\n",
    "\n",
    "LIMIT = None\n",
    "SEED = 33\n",
    "ROOT = os.path.dirname(os.path.abspath('__file__'))\n",
    "VOCAB_SIZE = 4096\n",
    "MAX_LEN = 128\n",
    "\n",
    "LOGS_FOLDER = \"logs_one_class\"\n",
    "os.makedirs(LOGS_FOLDER, exist_ok=True)\n",
    "\n",
    "TOKENIZER = wordpunct_tokenize\n",
    "tokenizer = CommandTokenizer(tokenizer_fn=TOKENIZER, vocab_size=VOCAB_SIZE)\n",
    "\n",
    "def load_data():\n",
    "    train_base_parquet_file = [x for x in os.listdir(os.path.join(ROOT,'data/train_baseline.parquet/')) if x.endswith('.parquet')][0]\n",
    "    test_base_parquet_file = [x for x in os.listdir(os.path.join(ROOT,'data/test_baseline.parquet/')) if x.endswith('.parquet')][0]\n",
    "    train_rvrs_parquet_file = [x for x in os.listdir(os.path.join(ROOT,'data/train_rvrs.parquet/')) if x.endswith('.parquet')][0]\n",
    "    test_rvrs_parquet_file = [x for x in os.listdir(os.path.join(ROOT,'data/test_rvrs.parquet/')) if x.endswith('.parquet')][0]\n",
    "\n",
    "    # load as dataframes\n",
    "    train_baseline_df = pd.read_parquet(os.path.join(ROOT,'data/train_baseline.parquet/', train_base_parquet_file))\n",
    "    test_baseline_df = pd.read_parquet(os.path.join(ROOT,'data/test_baseline.parquet/', test_base_parquet_file))\n",
    "    train_malicious_df = pd.read_parquet(os.path.join(ROOT,'data/train_rvrs.parquet/', train_rvrs_parquet_file))\n",
    "    test_malicious_df = pd.read_parquet(os.path.join(ROOT,'data/test_rvrs.parquet/', test_rvrs_parquet_file))\n",
    "\n",
    "    X_train_non_shuffled = train_baseline_df['cmd'].values.tolist() + train_malicious_df['cmd'].values.tolist()\n",
    "    y_train = np.array([0] * len(train_baseline_df) + [1] * len(train_malicious_df), dtype=np.int8)\n",
    "    X_train_cmds, y_train = shuffle(X_train_non_shuffled, y_train, random_state=SEED)\n",
    "\n",
    "    X_test_non_shuffled = test_baseline_df['cmd'].values.tolist() + test_malicious_df['cmd'].values.tolist()\n",
    "    y_test = np.array([0] * len(test_baseline_df) + [1] * len(test_malicious_df), dtype=np.int8)\n",
    "    X_test_cmds, y_test = shuffle(X_test_non_shuffled, y_test, random_state=SEED)\n",
    "\n",
    "    # ===========================================\n",
    "    # DATASET LIMITS FOR TESTING\n",
    "    # ===========================================\n",
    "    X_train_cmds = X_train_cmds[:LIMIT]\n",
    "    y_train = y_train[:LIMIT]\n",
    "    \n",
    "    X_test_cmds = X_test_cmds[:LIMIT]\n",
    "    y_test = y_test[:LIMIT]\n",
    "\n",
    "    return X_train_cmds, y_train, X_test_cmds, y_test\n",
    "\n",
    "def sigmoid(x):\n",
    "    return 1 / (1 + np.exp(-x))\n",
    "\n",
    "def get_tpr_at_fpr(predicted_probs, true_labels, fprNeeded=1e-4):\n",
    "    # if isinstance(predicted_logits, torch.Tensor):\n",
    "    #     predicted_probs = torch.sigmoid(predicted_logits).cpu().detach().numpy()\n",
    "    # else:\n",
    "    #     predicted_probs = sigmoid(predicted_logits)\n",
    "    \n",
    "    if isinstance(true_labels, torch.Tensor):\n",
    "        true_labels = true_labels.cpu().detach().numpy()\n",
    "    \n",
    "    fpr, tpr, thresholds = roc_curve(true_labels, predicted_probs)\n",
    "    if all(np.isnan(fpr)):\n",
    "        return np.nan#, np.nan\n",
    "    else:\n",
    "        tpr_at_fpr = tpr[fpr <= fprNeeded][-1]\n",
    "        #threshold_at_fpr = thresholds[fpr <= fprNeeded][-1]\n",
    "        return tpr_at_fpr#, threshold_at_fpr\n",
    "\n",
    "X_train_cmds, y_train, X_test_cmds, y_test = load_data()\n",
    "if LIMIT is not None:\n",
    "    X_train_cmds = X_train_cmds[:LIMIT]\n",
    "    y_train = y_train[:LIMIT]\n",
    "    X_test_cmds = X_test_cmds[:LIMIT]\n",
    "    y_test = y_test[:LIMIT]\n",
    "    \n",
    "print('X_train_cmds: ', len(X_train_cmds))\n",
    "print('X_test_cmds: ', len(X_test_cmds))"
   ]
  },
  {
   "cell_type": "markdown",
   "metadata": {},
   "source": [
    "### Since these are one-class models -- preserving only malicious samples in the training set"
   ]
  },
  {
   "cell_type": "code",
   "execution_count": 64,
   "metadata": {},
   "outputs": [],
   "source": [
    "train_malicious_mask = y_train == 1\n",
    "X_train_cmds_malicous = np.array(X_train_cmds)[train_malicious_mask]\n",
    "y_train_malicous = np.array(y_train)[train_malicious_mask]"
   ]
  },
  {
   "cell_type": "code",
   "execution_count": 65,
   "metadata": {},
   "outputs": [
    {
     "name": "stdout",
     "output_type": "stream",
     "text": [
      "[*] Fitting One-Hot encoder...\n",
      "[!] Finished fitting One-Hot encoder in 8.27 seconds\n",
      "[*] Transforming train and test sets...\n",
      "[!] Finished transforming train set in 29.07 seconds\n",
      "[!] Finished transforming test set in 31.56 seconds\n",
      "[!] Shapes: X_train_onehot_malicious: (266501, 4096), X_test_onehot: (470129, 4096)\n"
     ]
    }
   ],
   "source": [
    "def fit_one_hot(X):\n",
    "    oh = OneHotCustomVectorizer(tokenizer=TOKENIZER, max_features=VOCAB_SIZE)\n",
    "    print(\"[*] Fitting One-Hot encoder...\")\n",
    "    now = time.time()\n",
    "    oh.fit(X)\n",
    "    print(f\"[!] Finished fitting One-Hot encoder in {time.time() - now:.2f} seconds\")\n",
    "    return oh\n",
    "\n",
    "# building one-hot encoder\n",
    "oh_vectorizer_file = os.path.join(LOGS_FOLDER, f\"onehot_vectorizer_{VOCAB_SIZE}_lim_{LIMIT}.pkl\")\n",
    "if os.path.exists(oh_vectorizer_file):\n",
    "    print(\"[*] Loading One-Hot vectorizer...\")\n",
    "    oh = pickle.load(open(oh_vectorizer_file, \"rb\"))\n",
    "else:\n",
    "    oh = fit_one_hot(X_train_cmds_malicous)\n",
    "    with open(oh_vectorizer_file, \"wb\") as f:\n",
    "        pickle.dump(oh, f)\n",
    "\n",
    "\n",
    "print(\"[*] Transforming train and test sets...\")\n",
    "\n",
    "now = time.time()\n",
    "X_train_onehot_malicious = oh.transform(X_train_cmds_malicous)\n",
    "print(f\"[!] Finished transforming train set in {time.time() - now:.2f} seconds\")\n",
    "\n",
    "now = time.time()\n",
    "X_test_onehot = oh.transform(X_test_cmds)\n",
    "print(f\"[!] Finished transforming test set in {time.time() - now:.2f} seconds\")\n",
    "\n",
    "print(f\"[!] Shapes: X_train_onehot_malicious: {X_train_onehot_malicious.shape}, X_test_onehot: {X_test_onehot.shape}\")"
   ]
  },
  {
   "cell_type": "code",
   "execution_count": 66,
   "metadata": {},
   "outputs": [],
   "source": [
    "def train_and_predict(model, X_train, X_test, y_test, name=\"\"):\n",
    "    # training\n",
    "    print(\"[*] Training model...\")\n",
    "    now = time.time()\n",
    "    model.fit(X_train)\n",
    "    print(f\"[*] Training model took {time.time() - now:.2f} seconds.\")\n",
    "    \n",
    "    # dump model\n",
    "    model_file = os.path.join(LOGS_FOLDER, f\"model_{name}_{VOCAB_SIZE}_lim_{LIMIT}.pkl\")\n",
    "    with open(model_file, \"wb\") as f:\n",
    "        pickle.dump(model, f)\n",
    "\n",
    "    # predicting\n",
    "    model_preds = model.predict(X_test)\n",
    "    model_preds = np.array([1 if x == -1 else 0 for x in model_preds])\n",
    "\n",
    "    # calculating metrics\n",
    "    model_tpr = get_tpr_at_fpr(model_preds, y_test, fprNeeded=1e-4)\n",
    "    model_f1 = f1_score(y_test, model_preds)\n",
    "    model_acc = accuracy_score(y_test, model_preds)\n",
    "    model_auc = roc_auc_score(y_test, model_preds)\n",
    "\n",
    "    print('TPR at FPR=1e-4: {:.4f}%'.format(model_tpr*100))\n",
    "    print('F1 score: {:.4f}%'.format(model_f1*100))\n",
    "    print('Accuracy: {:.4f}%'.format(model_acc*100))\n",
    "    print('AUC: {:.4f}%'.format(model_auc*100))\n",
    "\n",
    "    return model_tpr, model_f1, model_acc, model_auc"
   ]
  },
  {
   "cell_type": "markdown",
   "metadata": {},
   "source": [
    "### OneClassSVM is really slow model:\n",
    "  - takes 30 sec (optimal speed, nu='0.1') / 2 mins (best scores, nu=0.5) per 50k samples \n",
    "  - takes ~2h 30 min (optimal speed, nu='0.1') / ?? h (best scores, nu=0.5) per full dataset"
   ]
  },
  {
   "cell_type": "code",
   "execution_count": 44,
   "metadata": {},
   "outputs": [
    {
     "name": "stdout",
     "output_type": "stream",
     "text": [
      "\n",
      "[!] Nu: 0.1\n",
      "[*] Training model...\n",
      "[*] Training model took 27.14 seconds.\n",
      "TPR at FPR=1e-4: 9.7907%\n",
      "F1 score: 17.8353%\n",
      "Accuracy: 54.6500%\n",
      "AUC: 54.8954%\n",
      "\n",
      "[!] Nu: 0.3\n",
      "[*] Training model...\n",
      "[*] Training model took 68.38 seconds.\n",
      "TPR at FPR=1e-4: 9.7987%\n",
      "F1 score: 17.8478%\n",
      "Accuracy: 54.6520%\n",
      "AUC: 54.8973%\n",
      "\n",
      "[!] Nu: 0.5\n",
      "[*] Training model...\n",
      "[*] Training model took 89.08 seconds.\n",
      "TPR at FPR=1e-4: 0.0000%\n",
      "F1 score: 51.7451%\n",
      "Accuracy: 67.1780%\n",
      "AUC: 67.3540%\n",
      "\n",
      "[!] Nu: 0.7\n",
      "[*] Training model...\n",
      "[*] Training model took 103.54 seconds.\n",
      "TPR at FPR=1e-4: 0.0000%\n",
      "F1 score: 82.0666%\n",
      "Accuracy: 81.5200%\n",
      "AUC: 81.5058%\n",
      "\n",
      "[!] Nu: 0.9\n",
      "[*] Training model...\n",
      "[*] Training model took 106.18 seconds.\n",
      "TPR at FPR=1e-4: 0.0000%\n",
      "F1 score: 84.1966%\n",
      "Accuracy: 82.1080%\n",
      "AUC: 82.0385%\n"
     ]
    }
   ],
   "source": [
    "# oc svm\n",
    "# for nu in [0.1, 0.3, 0.5, 0.7, 0.9]:\n",
    "#     print(f\"\\n[!] Nu: {nu}\")\n",
    "#     oc_svm = OneClassSVM(kernel='rbf', gamma='auto', nu=nu)\n",
    "#     _ = train_and_predict(oc_svm, X_train_onehot_malicious, X_test_onehot, y_test, name=f\"oc_svm_nu_{nu}\")"
   ]
  },
  {
   "cell_type": "markdown",
   "metadata": {},
   "source": [
    "### SGD implementation of OneClassSVM is much faster"
   ]
  },
  {
   "cell_type": "code",
   "execution_count": 69,
   "metadata": {},
   "outputs": [
    {
     "name": "stdout",
     "output_type": "stream",
     "text": [
      "\n",
      "[!] Nu: 0.5\n",
      "[*] Training model...\n"
     ]
    }
   ],
   "source": [
    "# oc svm sgd version\n",
    "for nu in [0.5, 0.9]:\n",
    "    for tol in [1e-3, 1e-4, 1e-5]:\n",
    "        print(f\"\\n[!] Nu: {nu} | tol: {tol}\")\n",
    "        oc_svm_sgd = SGDOneClassSVM(nu=nu, random_state=SEED, learning_rate='constant', eta0=0.1, tol=tol, max_iter=1000)\n",
    "        _ = train_and_predict(oc_svm_sgd, X_train_onehot_malicious, X_test_onehot, y_test, name=f\"oc_svm_sgd_nu_{nu}\")"
   ]
  },
  {
   "cell_type": "code",
   "execution_count": 68,
   "metadata": {},
   "outputs": [
    {
     "name": "stdout",
     "output_type": "stream",
     "text": [
      "\n",
      "[!] Contamination: auto\n",
      "[*] Training model...\n",
      "[*] Training model took 2.92 seconds.\n",
      "TPR at FPR=1e-4: 0.0000%\n",
      "F1 score: 0.0000%\n",
      "Accuracy: 50.0010%\n",
      "AUC: 50.0000%\n",
      "\n",
      "[!] Contamination: 0.5\n",
      "[*] Training model...\n",
      "[*] Training model took 11.51 seconds.\n",
      "TPR at FPR=1e-4: 0.0000%\n",
      "F1 score: 51.6309%\n",
      "Accuracy: 67.2241%\n",
      "AUC: 67.2235%\n"
     ]
    }
   ],
   "source": [
    "# isolation forest\n",
    "for contamination in [\"auto\", 0.1, 0.3, 0.5]:\n",
    "    for max_samples in ['auto', 0.01, 0.05, 0.1, 0.3]:\n",
    "        print(f\"\\n[!] Contamination: {contamination} | Max samples: {max_samples}\")\n",
    "        isolation_forest = IsolationForest(n_estimators=100, max_samples=0.1, contamination=contamination, \n",
    "                                    max_features=1.0, bootstrap=False, n_jobs=-1, random_state=SEED)\n",
    "        _ = train_and_predict(isolation_forest, X_train_onehot_malicious, X_test_onehot, y_test, name=f\"isolation_forest_cont_{contamination}\")"
   ]
  },
  {
   "cell_type": "code",
   "execution_count": null,
   "metadata": {},
   "outputs": [],
   "source": []
  }
 ],
 "metadata": {
  "kernelspec": {
   "display_name": "Python 3",
   "language": "python",
   "name": "python3"
  },
  "language_info": {
   "codemirror_mode": {
    "name": "ipython",
    "version": 3
   },
   "file_extension": ".py",
   "mimetype": "text/x-python",
   "name": "python",
   "nbconvert_exporter": "python",
   "pygments_lexer": "ipython3",
   "version": "3.9.13"
  }
 },
 "nbformat": 4,
 "nbformat_minor": 2
}
